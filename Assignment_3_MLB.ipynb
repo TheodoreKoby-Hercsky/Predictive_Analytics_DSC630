{
 "cells": [
  {
   "cell_type": "markdown",
   "id": "3e25fb3b",
   "metadata": {},
   "source": [
    "## Assignment 3.2: Using Data to Improve MLB Attendance"
   ]
  },
  {
   "cell_type": "code",
   "execution_count": 1,
   "id": "0cb0971d",
   "metadata": {},
   "outputs": [],
   "source": [
    "# First I will import some needed libraries\n",
    "import pandas as pd\n",
    "from importlib import reload\n",
    "import sys\n",
    "import numpy as np\n",
    "from imp import reload\n",
    "import nltk\n",
    "import matplotlib.pyplot as plt \n",
    "import matplotlib.gridspec as gridspec \n",
    "%matplotlib inline\n",
    "import seaborn as sns "
   ]
  },
  {
   "cell_type": "markdown",
   "id": "fe16ade2",
   "metadata": {},
   "source": [
    "## Importing the Data"
   ]
  },
  {
   "cell_type": "code",
   "execution_count": 24,
   "id": "dae9f849",
   "metadata": {},
   "outputs": [
    {
     "data": {
      "text/html": [
       "<div>\n",
       "<style scoped>\n",
       "    .dataframe tbody tr th:only-of-type {\n",
       "        vertical-align: middle;\n",
       "    }\n",
       "\n",
       "    .dataframe tbody tr th {\n",
       "        vertical-align: top;\n",
       "    }\n",
       "\n",
       "    .dataframe thead th {\n",
       "        text-align: right;\n",
       "    }\n",
       "</style>\n",
       "<table border=\"1\" class=\"dataframe\">\n",
       "  <thead>\n",
       "    <tr style=\"text-align: right;\">\n",
       "      <th></th>\n",
       "      <th>month</th>\n",
       "      <th>day</th>\n",
       "      <th>attend</th>\n",
       "      <th>day_of_week</th>\n",
       "      <th>opponent</th>\n",
       "      <th>temp</th>\n",
       "      <th>skies</th>\n",
       "      <th>day_night</th>\n",
       "      <th>cap</th>\n",
       "      <th>shirt</th>\n",
       "      <th>fireworks</th>\n",
       "      <th>bobblehead</th>\n",
       "    </tr>\n",
       "  </thead>\n",
       "  <tbody>\n",
       "    <tr>\n",
       "      <th>0</th>\n",
       "      <td>APR</td>\n",
       "      <td>10</td>\n",
       "      <td>56000</td>\n",
       "      <td>Tuesday</td>\n",
       "      <td>Pirates</td>\n",
       "      <td>67</td>\n",
       "      <td>Clear</td>\n",
       "      <td>Day</td>\n",
       "      <td>NO</td>\n",
       "      <td>NO</td>\n",
       "      <td>NO</td>\n",
       "      <td>NO</td>\n",
       "    </tr>\n",
       "    <tr>\n",
       "      <th>1</th>\n",
       "      <td>APR</td>\n",
       "      <td>11</td>\n",
       "      <td>29729</td>\n",
       "      <td>Wednesday</td>\n",
       "      <td>Pirates</td>\n",
       "      <td>58</td>\n",
       "      <td>Cloudy</td>\n",
       "      <td>Night</td>\n",
       "      <td>NO</td>\n",
       "      <td>NO</td>\n",
       "      <td>NO</td>\n",
       "      <td>NO</td>\n",
       "    </tr>\n",
       "    <tr>\n",
       "      <th>2</th>\n",
       "      <td>APR</td>\n",
       "      <td>12</td>\n",
       "      <td>28328</td>\n",
       "      <td>Thursday</td>\n",
       "      <td>Pirates</td>\n",
       "      <td>57</td>\n",
       "      <td>Cloudy</td>\n",
       "      <td>Night</td>\n",
       "      <td>NO</td>\n",
       "      <td>NO</td>\n",
       "      <td>NO</td>\n",
       "      <td>NO</td>\n",
       "    </tr>\n",
       "    <tr>\n",
       "      <th>3</th>\n",
       "      <td>APR</td>\n",
       "      <td>13</td>\n",
       "      <td>31601</td>\n",
       "      <td>Friday</td>\n",
       "      <td>Padres</td>\n",
       "      <td>54</td>\n",
       "      <td>Cloudy</td>\n",
       "      <td>Night</td>\n",
       "      <td>NO</td>\n",
       "      <td>NO</td>\n",
       "      <td>YES</td>\n",
       "      <td>NO</td>\n",
       "    </tr>\n",
       "    <tr>\n",
       "      <th>4</th>\n",
       "      <td>APR</td>\n",
       "      <td>14</td>\n",
       "      <td>46549</td>\n",
       "      <td>Saturday</td>\n",
       "      <td>Padres</td>\n",
       "      <td>57</td>\n",
       "      <td>Cloudy</td>\n",
       "      <td>Night</td>\n",
       "      <td>NO</td>\n",
       "      <td>NO</td>\n",
       "      <td>NO</td>\n",
       "      <td>NO</td>\n",
       "    </tr>\n",
       "    <tr>\n",
       "      <th>...</th>\n",
       "      <td>...</td>\n",
       "      <td>...</td>\n",
       "      <td>...</td>\n",
       "      <td>...</td>\n",
       "      <td>...</td>\n",
       "      <td>...</td>\n",
       "      <td>...</td>\n",
       "      <td>...</td>\n",
       "      <td>...</td>\n",
       "      <td>...</td>\n",
       "      <td>...</td>\n",
       "      <td>...</td>\n",
       "    </tr>\n",
       "    <tr>\n",
       "      <th>76</th>\n",
       "      <td>SEP</td>\n",
       "      <td>29</td>\n",
       "      <td>40724</td>\n",
       "      <td>Saturday</td>\n",
       "      <td>Rockies</td>\n",
       "      <td>84</td>\n",
       "      <td>Cloudy</td>\n",
       "      <td>Night</td>\n",
       "      <td>NO</td>\n",
       "      <td>NO</td>\n",
       "      <td>NO</td>\n",
       "      <td>NO</td>\n",
       "    </tr>\n",
       "    <tr>\n",
       "      <th>77</th>\n",
       "      <td>SEP</td>\n",
       "      <td>30</td>\n",
       "      <td>35607</td>\n",
       "      <td>Sunday</td>\n",
       "      <td>Rockies</td>\n",
       "      <td>95</td>\n",
       "      <td>Clear</td>\n",
       "      <td>Day</td>\n",
       "      <td>NO</td>\n",
       "      <td>NO</td>\n",
       "      <td>NO</td>\n",
       "      <td>NO</td>\n",
       "    </tr>\n",
       "    <tr>\n",
       "      <th>78</th>\n",
       "      <td>OCT</td>\n",
       "      <td>1</td>\n",
       "      <td>33624</td>\n",
       "      <td>Monday</td>\n",
       "      <td>Giants</td>\n",
       "      <td>86</td>\n",
       "      <td>Clear</td>\n",
       "      <td>Night</td>\n",
       "      <td>NO</td>\n",
       "      <td>NO</td>\n",
       "      <td>NO</td>\n",
       "      <td>NO</td>\n",
       "    </tr>\n",
       "    <tr>\n",
       "      <th>79</th>\n",
       "      <td>OCT</td>\n",
       "      <td>2</td>\n",
       "      <td>42473</td>\n",
       "      <td>Tuesday</td>\n",
       "      <td>Giants</td>\n",
       "      <td>83</td>\n",
       "      <td>Clear</td>\n",
       "      <td>Night</td>\n",
       "      <td>NO</td>\n",
       "      <td>NO</td>\n",
       "      <td>NO</td>\n",
       "      <td>NO</td>\n",
       "    </tr>\n",
       "    <tr>\n",
       "      <th>80</th>\n",
       "      <td>OCT</td>\n",
       "      <td>3</td>\n",
       "      <td>34014</td>\n",
       "      <td>Wednesday</td>\n",
       "      <td>Giants</td>\n",
       "      <td>82</td>\n",
       "      <td>Cloudy</td>\n",
       "      <td>Night</td>\n",
       "      <td>NO</td>\n",
       "      <td>NO</td>\n",
       "      <td>NO</td>\n",
       "      <td>NO</td>\n",
       "    </tr>\n",
       "  </tbody>\n",
       "</table>\n",
       "<p>81 rows × 12 columns</p>\n",
       "</div>"
      ],
      "text/plain": [
       "   month  day  attend day_of_week opponent  temp   skies day_night cap shirt  \\\n",
       "0    APR   10   56000     Tuesday  Pirates    67  Clear        Day  NO    NO   \n",
       "1    APR   11   29729   Wednesday  Pirates    58  Cloudy     Night  NO    NO   \n",
       "2    APR   12   28328    Thursday  Pirates    57  Cloudy     Night  NO    NO   \n",
       "3    APR   13   31601      Friday   Padres    54  Cloudy     Night  NO    NO   \n",
       "4    APR   14   46549    Saturday   Padres    57  Cloudy     Night  NO    NO   \n",
       "..   ...  ...     ...         ...      ...   ...     ...       ...  ..   ...   \n",
       "76   SEP   29   40724    Saturday  Rockies    84  Cloudy     Night  NO    NO   \n",
       "77   SEP   30   35607      Sunday  Rockies    95  Clear        Day  NO    NO   \n",
       "78   OCT    1   33624      Monday   Giants    86  Clear      Night  NO    NO   \n",
       "79   OCT    2   42473     Tuesday   Giants    83  Clear      Night  NO    NO   \n",
       "80   OCT    3   34014   Wednesday   Giants    82  Cloudy     Night  NO    NO   \n",
       "\n",
       "   fireworks bobblehead  \n",
       "0         NO         NO  \n",
       "1         NO         NO  \n",
       "2         NO         NO  \n",
       "3        YES         NO  \n",
       "4         NO         NO  \n",
       "..       ...        ...  \n",
       "76        NO         NO  \n",
       "77        NO         NO  \n",
       "78        NO         NO  \n",
       "79        NO         NO  \n",
       "80        NO         NO  \n",
       "\n",
       "[81 rows x 12 columns]"
      ]
     },
     "execution_count": 24,
     "metadata": {},
     "output_type": "execute_result"
    }
   ],
   "source": [
    "# I will use pandas to pull the data to create a data frame to work from\n",
    "dodgers_data = pd.read_csv('dodgers-2022.csv')\n",
    "dodgers_data"
   ]
  },
  {
   "cell_type": "code",
   "execution_count": 25,
   "id": "c8189d22",
   "metadata": {},
   "outputs": [
    {
     "data": {
      "text/plain": [
       "month          object\n",
       "day             int64\n",
       "attend          int64\n",
       "day_of_week    object\n",
       "opponent       object\n",
       "temp            int64\n",
       "skies          object\n",
       "day_night      object\n",
       "cap            object\n",
       "shirt          object\n",
       "fireworks      object\n",
       "bobblehead     object\n",
       "dtype: object"
      ]
     },
     "execution_count": 25,
     "metadata": {},
     "output_type": "execute_result"
    }
   ],
   "source": [
    "# First I will view the data type\n",
    "dodgers_data.dtypes"
   ]
  },
  {
   "cell_type": "markdown",
   "id": "ad7b0476",
   "metadata": {},
   "source": [
    "As seen above we can see that the month variable is a object as it is listed as the actual month and not in a numeric form. While the only integers we have in this data set is for the day, attendance, and temperature."
   ]
  },
  {
   "cell_type": "code",
   "execution_count": 26,
   "id": "aa3cce21",
   "metadata": {},
   "outputs": [
    {
     "data": {
      "text/html": [
       "<div>\n",
       "<style scoped>\n",
       "    .dataframe tbody tr th:only-of-type {\n",
       "        vertical-align: middle;\n",
       "    }\n",
       "\n",
       "    .dataframe tbody tr th {\n",
       "        vertical-align: top;\n",
       "    }\n",
       "\n",
       "    .dataframe thead th {\n",
       "        text-align: right;\n",
       "    }\n",
       "</style>\n",
       "<table border=\"1\" class=\"dataframe\">\n",
       "  <thead>\n",
       "    <tr style=\"text-align: right;\">\n",
       "      <th></th>\n",
       "      <th>day</th>\n",
       "      <th>attend</th>\n",
       "      <th>temp</th>\n",
       "    </tr>\n",
       "  </thead>\n",
       "  <tbody>\n",
       "    <tr>\n",
       "      <th>count</th>\n",
       "      <td>81.000000</td>\n",
       "      <td>81.000000</td>\n",
       "      <td>81.000000</td>\n",
       "    </tr>\n",
       "    <tr>\n",
       "      <th>mean</th>\n",
       "      <td>16.135802</td>\n",
       "      <td>41040.074074</td>\n",
       "      <td>73.148148</td>\n",
       "    </tr>\n",
       "    <tr>\n",
       "      <th>std</th>\n",
       "      <td>9.605666</td>\n",
       "      <td>8297.539460</td>\n",
       "      <td>8.317318</td>\n",
       "    </tr>\n",
       "    <tr>\n",
       "      <th>min</th>\n",
       "      <td>1.000000</td>\n",
       "      <td>24312.000000</td>\n",
       "      <td>54.000000</td>\n",
       "    </tr>\n",
       "    <tr>\n",
       "      <th>25%</th>\n",
       "      <td>8.000000</td>\n",
       "      <td>34493.000000</td>\n",
       "      <td>67.000000</td>\n",
       "    </tr>\n",
       "    <tr>\n",
       "      <th>50%</th>\n",
       "      <td>15.000000</td>\n",
       "      <td>40284.000000</td>\n",
       "      <td>73.000000</td>\n",
       "    </tr>\n",
       "    <tr>\n",
       "      <th>75%</th>\n",
       "      <td>25.000000</td>\n",
       "      <td>46588.000000</td>\n",
       "      <td>79.000000</td>\n",
       "    </tr>\n",
       "    <tr>\n",
       "      <th>max</th>\n",
       "      <td>31.000000</td>\n",
       "      <td>56000.000000</td>\n",
       "      <td>95.000000</td>\n",
       "    </tr>\n",
       "  </tbody>\n",
       "</table>\n",
       "</div>"
      ],
      "text/plain": [
       "             day        attend       temp\n",
       "count  81.000000     81.000000  81.000000\n",
       "mean   16.135802  41040.074074  73.148148\n",
       "std     9.605666   8297.539460   8.317318\n",
       "min     1.000000  24312.000000  54.000000\n",
       "25%     8.000000  34493.000000  67.000000\n",
       "50%    15.000000  40284.000000  73.000000\n",
       "75%    25.000000  46588.000000  79.000000\n",
       "max    31.000000  56000.000000  95.000000"
      ]
     },
     "execution_count": 26,
     "metadata": {},
     "output_type": "execute_result"
    }
   ],
   "source": [
    "dodgers_data.describe()"
   ]
  },
  {
   "cell_type": "markdown",
   "id": "ac2ba911",
   "metadata": {},
   "source": [
    "Above we can see that the mean temperature at a game was 73.14 degrees which is not bad at all. While the mean number of attendies is 41,040 which is also a decent amount of people to show up to a game. "
   ]
  },
  {
   "cell_type": "code",
   "execution_count": 27,
   "id": "9a75f58a",
   "metadata": {},
   "outputs": [
    {
     "data": {
      "text/html": [
       "<div>\n",
       "<style scoped>\n",
       "    .dataframe tbody tr th:only-of-type {\n",
       "        vertical-align: middle;\n",
       "    }\n",
       "\n",
       "    .dataframe tbody tr th {\n",
       "        vertical-align: top;\n",
       "    }\n",
       "\n",
       "    .dataframe thead th {\n",
       "        text-align: right;\n",
       "    }\n",
       "</style>\n",
       "<table border=\"1\" class=\"dataframe\">\n",
       "  <thead>\n",
       "    <tr style=\"text-align: right;\">\n",
       "      <th></th>\n",
       "      <th>month</th>\n",
       "      <th>day</th>\n",
       "      <th>attend</th>\n",
       "      <th>day_of_week</th>\n",
       "      <th>opponent</th>\n",
       "      <th>temp</th>\n",
       "      <th>skies</th>\n",
       "      <th>day_night</th>\n",
       "      <th>cap</th>\n",
       "      <th>shirt</th>\n",
       "      <th>fireworks</th>\n",
       "      <th>bobblehead</th>\n",
       "    </tr>\n",
       "  </thead>\n",
       "  <tbody>\n",
       "    <tr>\n",
       "      <th>0</th>\n",
       "      <td>APR</td>\n",
       "      <td>10</td>\n",
       "      <td>56000</td>\n",
       "      <td>Tuesday</td>\n",
       "      <td>Pirates</td>\n",
       "      <td>67</td>\n",
       "      <td>Clear</td>\n",
       "      <td>Day</td>\n",
       "      <td>NO</td>\n",
       "      <td>NO</td>\n",
       "      <td>NO</td>\n",
       "      <td>NO</td>\n",
       "    </tr>\n",
       "    <tr>\n",
       "      <th>1</th>\n",
       "      <td>APR</td>\n",
       "      <td>11</td>\n",
       "      <td>29729</td>\n",
       "      <td>Wednesday</td>\n",
       "      <td>Pirates</td>\n",
       "      <td>58</td>\n",
       "      <td>Cloudy</td>\n",
       "      <td>Night</td>\n",
       "      <td>NO</td>\n",
       "      <td>NO</td>\n",
       "      <td>NO</td>\n",
       "      <td>NO</td>\n",
       "    </tr>\n",
       "    <tr>\n",
       "      <th>2</th>\n",
       "      <td>APR</td>\n",
       "      <td>12</td>\n",
       "      <td>28328</td>\n",
       "      <td>Thursday</td>\n",
       "      <td>Pirates</td>\n",
       "      <td>57</td>\n",
       "      <td>Cloudy</td>\n",
       "      <td>Night</td>\n",
       "      <td>NO</td>\n",
       "      <td>NO</td>\n",
       "      <td>NO</td>\n",
       "      <td>NO</td>\n",
       "    </tr>\n",
       "    <tr>\n",
       "      <th>3</th>\n",
       "      <td>APR</td>\n",
       "      <td>13</td>\n",
       "      <td>31601</td>\n",
       "      <td>Friday</td>\n",
       "      <td>Padres</td>\n",
       "      <td>54</td>\n",
       "      <td>Cloudy</td>\n",
       "      <td>Night</td>\n",
       "      <td>NO</td>\n",
       "      <td>NO</td>\n",
       "      <td>YES</td>\n",
       "      <td>NO</td>\n",
       "    </tr>\n",
       "    <tr>\n",
       "      <th>4</th>\n",
       "      <td>APR</td>\n",
       "      <td>14</td>\n",
       "      <td>46549</td>\n",
       "      <td>Saturday</td>\n",
       "      <td>Padres</td>\n",
       "      <td>57</td>\n",
       "      <td>Cloudy</td>\n",
       "      <td>Night</td>\n",
       "      <td>NO</td>\n",
       "      <td>NO</td>\n",
       "      <td>NO</td>\n",
       "      <td>NO</td>\n",
       "    </tr>\n",
       "    <tr>\n",
       "      <th>...</th>\n",
       "      <td>...</td>\n",
       "      <td>...</td>\n",
       "      <td>...</td>\n",
       "      <td>...</td>\n",
       "      <td>...</td>\n",
       "      <td>...</td>\n",
       "      <td>...</td>\n",
       "      <td>...</td>\n",
       "      <td>...</td>\n",
       "      <td>...</td>\n",
       "      <td>...</td>\n",
       "      <td>...</td>\n",
       "    </tr>\n",
       "    <tr>\n",
       "      <th>76</th>\n",
       "      <td>SEP</td>\n",
       "      <td>29</td>\n",
       "      <td>40724</td>\n",
       "      <td>Saturday</td>\n",
       "      <td>Rockies</td>\n",
       "      <td>84</td>\n",
       "      <td>Cloudy</td>\n",
       "      <td>Night</td>\n",
       "      <td>NO</td>\n",
       "      <td>NO</td>\n",
       "      <td>NO</td>\n",
       "      <td>NO</td>\n",
       "    </tr>\n",
       "    <tr>\n",
       "      <th>77</th>\n",
       "      <td>SEP</td>\n",
       "      <td>30</td>\n",
       "      <td>35607</td>\n",
       "      <td>Sunday</td>\n",
       "      <td>Rockies</td>\n",
       "      <td>95</td>\n",
       "      <td>Clear</td>\n",
       "      <td>Day</td>\n",
       "      <td>NO</td>\n",
       "      <td>NO</td>\n",
       "      <td>NO</td>\n",
       "      <td>NO</td>\n",
       "    </tr>\n",
       "    <tr>\n",
       "      <th>78</th>\n",
       "      <td>OCT</td>\n",
       "      <td>1</td>\n",
       "      <td>33624</td>\n",
       "      <td>Monday</td>\n",
       "      <td>Giants</td>\n",
       "      <td>86</td>\n",
       "      <td>Clear</td>\n",
       "      <td>Night</td>\n",
       "      <td>NO</td>\n",
       "      <td>NO</td>\n",
       "      <td>NO</td>\n",
       "      <td>NO</td>\n",
       "    </tr>\n",
       "    <tr>\n",
       "      <th>79</th>\n",
       "      <td>OCT</td>\n",
       "      <td>2</td>\n",
       "      <td>42473</td>\n",
       "      <td>Tuesday</td>\n",
       "      <td>Giants</td>\n",
       "      <td>83</td>\n",
       "      <td>Clear</td>\n",
       "      <td>Night</td>\n",
       "      <td>NO</td>\n",
       "      <td>NO</td>\n",
       "      <td>NO</td>\n",
       "      <td>NO</td>\n",
       "    </tr>\n",
       "    <tr>\n",
       "      <th>80</th>\n",
       "      <td>OCT</td>\n",
       "      <td>3</td>\n",
       "      <td>34014</td>\n",
       "      <td>Wednesday</td>\n",
       "      <td>Giants</td>\n",
       "      <td>82</td>\n",
       "      <td>Cloudy</td>\n",
       "      <td>Night</td>\n",
       "      <td>NO</td>\n",
       "      <td>NO</td>\n",
       "      <td>NO</td>\n",
       "      <td>NO</td>\n",
       "    </tr>\n",
       "  </tbody>\n",
       "</table>\n",
       "<p>81 rows × 12 columns</p>\n",
       "</div>"
      ],
      "text/plain": [
       "   month  day  attend day_of_week opponent  temp   skies day_night cap shirt  \\\n",
       "0    APR   10   56000     Tuesday  Pirates    67  Clear        Day  NO    NO   \n",
       "1    APR   11   29729   Wednesday  Pirates    58  Cloudy     Night  NO    NO   \n",
       "2    APR   12   28328    Thursday  Pirates    57  Cloudy     Night  NO    NO   \n",
       "3    APR   13   31601      Friday   Padres    54  Cloudy     Night  NO    NO   \n",
       "4    APR   14   46549    Saturday   Padres    57  Cloudy     Night  NO    NO   \n",
       "..   ...  ...     ...         ...      ...   ...     ...       ...  ..   ...   \n",
       "76   SEP   29   40724    Saturday  Rockies    84  Cloudy     Night  NO    NO   \n",
       "77   SEP   30   35607      Sunday  Rockies    95  Clear        Day  NO    NO   \n",
       "78   OCT    1   33624      Monday   Giants    86  Clear      Night  NO    NO   \n",
       "79   OCT    2   42473     Tuesday   Giants    83  Clear      Night  NO    NO   \n",
       "80   OCT    3   34014   Wednesday   Giants    82  Cloudy     Night  NO    NO   \n",
       "\n",
       "   fireworks bobblehead  \n",
       "0         NO         NO  \n",
       "1         NO         NO  \n",
       "2         NO         NO  \n",
       "3        YES         NO  \n",
       "4         NO         NO  \n",
       "..       ...        ...  \n",
       "76        NO         NO  \n",
       "77        NO         NO  \n",
       "78        NO         NO  \n",
       "79        NO         NO  \n",
       "80        NO         NO  \n",
       "\n",
       "[81 rows x 12 columns]"
      ]
     },
     "execution_count": 27,
     "metadata": {},
     "output_type": "execute_result"
    }
   ],
   "source": [
    "dodgers_data"
   ]
  },
  {
   "cell_type": "code",
   "execution_count": 28,
   "id": "428a7e64",
   "metadata": {},
   "outputs": [],
   "source": [
    "dodgers_data = dodgers_data.replace({'cap': {'YES': 1,'NO': 0}})\n",
    "dodgers_data = dodgers_data.replace({'shirt': {'YES': 1,'NO': 0}})\n",
    "dodgers_data = dodgers_data.replace({'fireworks': {'YES': 1,'NO': 0}})\n",
    "dodgers_data = dodgers_data.replace({'bobblehead': {'YES': 1,'NO': 0}})"
   ]
  },
  {
   "cell_type": "code",
   "execution_count": 29,
   "id": "3e7ee2cf",
   "metadata": {},
   "outputs": [
    {
     "data": {
      "text/plain": [
       "month          object\n",
       "day             int64\n",
       "attend          int64\n",
       "day_of_week    object\n",
       "opponent       object\n",
       "temp            int64\n",
       "skies          object\n",
       "day_night      object\n",
       "cap             int64\n",
       "shirt           int64\n",
       "fireworks       int64\n",
       "bobblehead      int64\n",
       "dtype: object"
      ]
     },
     "execution_count": 29,
     "metadata": {},
     "output_type": "execute_result"
    }
   ],
   "source": [
    "# next I will view the data type again to see \n",
    "# what has been updated to int64\n",
    "dodgers_data.dtypes"
   ]
  },
  {
   "cell_type": "code",
   "execution_count": 55,
   "id": "addd4ec7",
   "metadata": {},
   "outputs": [
    {
     "data": {
      "text/html": [
       "<div>\n",
       "<style scoped>\n",
       "    .dataframe tbody tr th:only-of-type {\n",
       "        vertical-align: middle;\n",
       "    }\n",
       "\n",
       "    .dataframe tbody tr th {\n",
       "        vertical-align: top;\n",
       "    }\n",
       "\n",
       "    .dataframe thead th {\n",
       "        text-align: right;\n",
       "    }\n",
       "</style>\n",
       "<table border=\"1\" class=\"dataframe\">\n",
       "  <thead>\n",
       "    <tr style=\"text-align: right;\">\n",
       "      <th></th>\n",
       "      <th>month</th>\n",
       "      <th>day</th>\n",
       "      <th>attend</th>\n",
       "      <th>day_of_week</th>\n",
       "      <th>opponent</th>\n",
       "      <th>temp</th>\n",
       "      <th>skies</th>\n",
       "      <th>day_night</th>\n",
       "      <th>cap</th>\n",
       "      <th>shirt</th>\n",
       "      <th>fireworks</th>\n",
       "      <th>bobblehead</th>\n",
       "    </tr>\n",
       "  </thead>\n",
       "  <tbody>\n",
       "    <tr>\n",
       "      <th>0</th>\n",
       "      <td>APR</td>\n",
       "      <td>10</td>\n",
       "      <td>56000</td>\n",
       "      <td>Tuesday</td>\n",
       "      <td>Pirates</td>\n",
       "      <td>67</td>\n",
       "      <td>Clear</td>\n",
       "      <td>Day</td>\n",
       "      <td>0</td>\n",
       "      <td>0</td>\n",
       "      <td>0</td>\n",
       "      <td>0</td>\n",
       "    </tr>\n",
       "    <tr>\n",
       "      <th>1</th>\n",
       "      <td>APR</td>\n",
       "      <td>11</td>\n",
       "      <td>29729</td>\n",
       "      <td>Wednesday</td>\n",
       "      <td>Pirates</td>\n",
       "      <td>58</td>\n",
       "      <td>Cloudy</td>\n",
       "      <td>Night</td>\n",
       "      <td>0</td>\n",
       "      <td>0</td>\n",
       "      <td>0</td>\n",
       "      <td>0</td>\n",
       "    </tr>\n",
       "    <tr>\n",
       "      <th>2</th>\n",
       "      <td>APR</td>\n",
       "      <td>12</td>\n",
       "      <td>28328</td>\n",
       "      <td>Thursday</td>\n",
       "      <td>Pirates</td>\n",
       "      <td>57</td>\n",
       "      <td>Cloudy</td>\n",
       "      <td>Night</td>\n",
       "      <td>0</td>\n",
       "      <td>0</td>\n",
       "      <td>0</td>\n",
       "      <td>0</td>\n",
       "    </tr>\n",
       "    <tr>\n",
       "      <th>3</th>\n",
       "      <td>APR</td>\n",
       "      <td>13</td>\n",
       "      <td>31601</td>\n",
       "      <td>Friday</td>\n",
       "      <td>Padres</td>\n",
       "      <td>54</td>\n",
       "      <td>Cloudy</td>\n",
       "      <td>Night</td>\n",
       "      <td>0</td>\n",
       "      <td>0</td>\n",
       "      <td>1</td>\n",
       "      <td>0</td>\n",
       "    </tr>\n",
       "    <tr>\n",
       "      <th>4</th>\n",
       "      <td>APR</td>\n",
       "      <td>14</td>\n",
       "      <td>46549</td>\n",
       "      <td>Saturday</td>\n",
       "      <td>Padres</td>\n",
       "      <td>57</td>\n",
       "      <td>Cloudy</td>\n",
       "      <td>Night</td>\n",
       "      <td>0</td>\n",
       "      <td>0</td>\n",
       "      <td>0</td>\n",
       "      <td>0</td>\n",
       "    </tr>\n",
       "    <tr>\n",
       "      <th>...</th>\n",
       "      <td>...</td>\n",
       "      <td>...</td>\n",
       "      <td>...</td>\n",
       "      <td>...</td>\n",
       "      <td>...</td>\n",
       "      <td>...</td>\n",
       "      <td>...</td>\n",
       "      <td>...</td>\n",
       "      <td>...</td>\n",
       "      <td>...</td>\n",
       "      <td>...</td>\n",
       "      <td>...</td>\n",
       "    </tr>\n",
       "    <tr>\n",
       "      <th>76</th>\n",
       "      <td>SEP</td>\n",
       "      <td>29</td>\n",
       "      <td>40724</td>\n",
       "      <td>Saturday</td>\n",
       "      <td>Rockies</td>\n",
       "      <td>84</td>\n",
       "      <td>Cloudy</td>\n",
       "      <td>Night</td>\n",
       "      <td>0</td>\n",
       "      <td>0</td>\n",
       "      <td>0</td>\n",
       "      <td>0</td>\n",
       "    </tr>\n",
       "    <tr>\n",
       "      <th>77</th>\n",
       "      <td>SEP</td>\n",
       "      <td>30</td>\n",
       "      <td>35607</td>\n",
       "      <td>Sunday</td>\n",
       "      <td>Rockies</td>\n",
       "      <td>95</td>\n",
       "      <td>Clear</td>\n",
       "      <td>Day</td>\n",
       "      <td>0</td>\n",
       "      <td>0</td>\n",
       "      <td>0</td>\n",
       "      <td>0</td>\n",
       "    </tr>\n",
       "    <tr>\n",
       "      <th>78</th>\n",
       "      <td>OCT</td>\n",
       "      <td>1</td>\n",
       "      <td>33624</td>\n",
       "      <td>Monday</td>\n",
       "      <td>Giants</td>\n",
       "      <td>86</td>\n",
       "      <td>Clear</td>\n",
       "      <td>Night</td>\n",
       "      <td>0</td>\n",
       "      <td>0</td>\n",
       "      <td>0</td>\n",
       "      <td>0</td>\n",
       "    </tr>\n",
       "    <tr>\n",
       "      <th>79</th>\n",
       "      <td>OCT</td>\n",
       "      <td>2</td>\n",
       "      <td>42473</td>\n",
       "      <td>Tuesday</td>\n",
       "      <td>Giants</td>\n",
       "      <td>83</td>\n",
       "      <td>Clear</td>\n",
       "      <td>Night</td>\n",
       "      <td>0</td>\n",
       "      <td>0</td>\n",
       "      <td>0</td>\n",
       "      <td>0</td>\n",
       "    </tr>\n",
       "    <tr>\n",
       "      <th>80</th>\n",
       "      <td>OCT</td>\n",
       "      <td>3</td>\n",
       "      <td>34014</td>\n",
       "      <td>Wednesday</td>\n",
       "      <td>Giants</td>\n",
       "      <td>82</td>\n",
       "      <td>Cloudy</td>\n",
       "      <td>Night</td>\n",
       "      <td>0</td>\n",
       "      <td>0</td>\n",
       "      <td>0</td>\n",
       "      <td>0</td>\n",
       "    </tr>\n",
       "  </tbody>\n",
       "</table>\n",
       "<p>81 rows × 12 columns</p>\n",
       "</div>"
      ],
      "text/plain": [
       "   month  day  attend day_of_week opponent  temp   skies day_night  cap  \\\n",
       "0    APR   10   56000     Tuesday  Pirates    67  Clear        Day    0   \n",
       "1    APR   11   29729   Wednesday  Pirates    58  Cloudy     Night    0   \n",
       "2    APR   12   28328    Thursday  Pirates    57  Cloudy     Night    0   \n",
       "3    APR   13   31601      Friday   Padres    54  Cloudy     Night    0   \n",
       "4    APR   14   46549    Saturday   Padres    57  Cloudy     Night    0   \n",
       "..   ...  ...     ...         ...      ...   ...     ...       ...  ...   \n",
       "76   SEP   29   40724    Saturday  Rockies    84  Cloudy     Night    0   \n",
       "77   SEP   30   35607      Sunday  Rockies    95  Clear        Day    0   \n",
       "78   OCT    1   33624      Monday   Giants    86  Clear      Night    0   \n",
       "79   OCT    2   42473     Tuesday   Giants    83  Clear      Night    0   \n",
       "80   OCT    3   34014   Wednesday   Giants    82  Cloudy     Night    0   \n",
       "\n",
       "    shirt  fireworks  bobblehead  \n",
       "0       0          0           0  \n",
       "1       0          0           0  \n",
       "2       0          0           0  \n",
       "3       0          1           0  \n",
       "4       0          0           0  \n",
       "..    ...        ...         ...  \n",
       "76      0          0           0  \n",
       "77      0          0           0  \n",
       "78      0          0           0  \n",
       "79      0          0           0  \n",
       "80      0          0           0  \n",
       "\n",
       "[81 rows x 12 columns]"
      ]
     },
     "execution_count": 55,
     "metadata": {},
     "output_type": "execute_result"
    }
   ],
   "source": [
    "dodgers_data"
   ]
  },
  {
   "cell_type": "markdown",
   "id": "4612aaef",
   "metadata": {},
   "source": [
    "Above we can see that the variables cap, shirt, fireworks, and bobblehead have been converted to integers. "
   ]
  },
  {
   "cell_type": "markdown",
   "id": "dc004794",
   "metadata": {},
   "source": [
    "## Correlation Between Variables "
   ]
  },
  {
   "cell_type": "code",
   "execution_count": 38,
   "id": "25c25775",
   "metadata": {},
   "outputs": [
    {
     "data": {
      "text/plain": [
       "day           0.099528\n",
       "attend        0.002094\n",
       "temp         -0.189899\n",
       "cap          -0.072732\n",
       "shirt        -0.089648\n",
       "fireworks     1.000000\n",
       "bobblehead   -0.181207\n",
       "Name: fireworks, dtype: float64"
      ]
     },
     "execution_count": 38,
     "metadata": {},
     "output_type": "execute_result"
    }
   ],
   "source": [
    "# Next I will view the correlation for several of my variables\n",
    "dodgers_data.corr()[\"fireworks\"]"
   ]
  },
  {
   "cell_type": "code",
   "execution_count": 39,
   "id": "b8469b80",
   "metadata": {},
   "outputs": [
    {
     "data": {
      "text/plain": [
       "day           0.145363\n",
       "attend        0.581895\n",
       "temp          0.049573\n",
       "cap          -0.063074\n",
       "shirt        -0.077743\n",
       "fireworks    -0.181207\n",
       "bobblehead    1.000000\n",
       "Name: bobblehead, dtype: float64"
      ]
     },
     "execution_count": 39,
     "metadata": {},
     "output_type": "execute_result"
    }
   ],
   "source": [
    "dodgers_data.corr()[\"bobblehead\"]"
   ]
  },
  {
   "cell_type": "code",
   "execution_count": 40,
   "id": "1f5d12b7",
   "metadata": {},
   "outputs": [
    {
     "data": {
      "text/plain": [
       "day          -0.030182\n",
       "attend        0.133269\n",
       "temp          0.004394\n",
       "cap          -0.031204\n",
       "shirt         1.000000\n",
       "fireworks    -0.089648\n",
       "bobblehead   -0.077743\n",
       "Name: shirt, dtype: float64"
      ]
     },
     "execution_count": 40,
     "metadata": {},
     "output_type": "execute_result"
    }
   ],
   "source": [
    "dodgers_data.corr()[\"shirt\"]"
   ]
  },
  {
   "cell_type": "code",
   "execution_count": 41,
   "id": "981d3b4b",
   "metadata": {},
   "outputs": [
    {
     "data": {
      "text/plain": [
       "day          -0.202274\n",
       "attend       -0.055002\n",
       "temp          0.064521\n",
       "cap           1.000000\n",
       "shirt        -0.031204\n",
       "fireworks    -0.072732\n",
       "bobblehead   -0.063074\n",
       "Name: cap, dtype: float64"
      ]
     },
     "execution_count": 41,
     "metadata": {},
     "output_type": "execute_result"
    }
   ],
   "source": [
    "dodgers_data.corr()[\"cap\"]"
   ]
  },
  {
   "cell_type": "code",
   "execution_count": 44,
   "id": "c82fa856",
   "metadata": {},
   "outputs": [
    {
     "data": {
      "text/html": [
       "<div>\n",
       "<style scoped>\n",
       "    .dataframe tbody tr th:only-of-type {\n",
       "        vertical-align: middle;\n",
       "    }\n",
       "\n",
       "    .dataframe tbody tr th {\n",
       "        vertical-align: top;\n",
       "    }\n",
       "\n",
       "    .dataframe thead th {\n",
       "        text-align: right;\n",
       "    }\n",
       "</style>\n",
       "<table border=\"1\" class=\"dataframe\">\n",
       "  <thead>\n",
       "    <tr style=\"text-align: right;\">\n",
       "      <th></th>\n",
       "      <th>day</th>\n",
       "      <th>attend</th>\n",
       "      <th>temp</th>\n",
       "      <th>cap</th>\n",
       "      <th>shirt</th>\n",
       "      <th>fireworks</th>\n",
       "      <th>bobblehead</th>\n",
       "    </tr>\n",
       "  </thead>\n",
       "  <tbody>\n",
       "    <tr>\n",
       "      <th>day</th>\n",
       "      <td>1.000000</td>\n",
       "      <td>0.027093</td>\n",
       "      <td>-0.127612</td>\n",
       "      <td>-0.202274</td>\n",
       "      <td>-0.030182</td>\n",
       "      <td>0.099528</td>\n",
       "      <td>0.145363</td>\n",
       "    </tr>\n",
       "    <tr>\n",
       "      <th>attend</th>\n",
       "      <td>0.027093</td>\n",
       "      <td>1.000000</td>\n",
       "      <td>0.098951</td>\n",
       "      <td>-0.055002</td>\n",
       "      <td>0.133269</td>\n",
       "      <td>0.002094</td>\n",
       "      <td>0.581895</td>\n",
       "    </tr>\n",
       "    <tr>\n",
       "      <th>temp</th>\n",
       "      <td>-0.127612</td>\n",
       "      <td>0.098951</td>\n",
       "      <td>1.000000</td>\n",
       "      <td>0.064521</td>\n",
       "      <td>0.004394</td>\n",
       "      <td>-0.189899</td>\n",
       "      <td>0.049573</td>\n",
       "    </tr>\n",
       "    <tr>\n",
       "      <th>cap</th>\n",
       "      <td>-0.202274</td>\n",
       "      <td>-0.055002</td>\n",
       "      <td>0.064521</td>\n",
       "      <td>1.000000</td>\n",
       "      <td>-0.031204</td>\n",
       "      <td>-0.072732</td>\n",
       "      <td>-0.063074</td>\n",
       "    </tr>\n",
       "    <tr>\n",
       "      <th>shirt</th>\n",
       "      <td>-0.030182</td>\n",
       "      <td>0.133269</td>\n",
       "      <td>0.004394</td>\n",
       "      <td>-0.031204</td>\n",
       "      <td>1.000000</td>\n",
       "      <td>-0.089648</td>\n",
       "      <td>-0.077743</td>\n",
       "    </tr>\n",
       "    <tr>\n",
       "      <th>fireworks</th>\n",
       "      <td>0.099528</td>\n",
       "      <td>0.002094</td>\n",
       "      <td>-0.189899</td>\n",
       "      <td>-0.072732</td>\n",
       "      <td>-0.089648</td>\n",
       "      <td>1.000000</td>\n",
       "      <td>-0.181207</td>\n",
       "    </tr>\n",
       "    <tr>\n",
       "      <th>bobblehead</th>\n",
       "      <td>0.145363</td>\n",
       "      <td>0.581895</td>\n",
       "      <td>0.049573</td>\n",
       "      <td>-0.063074</td>\n",
       "      <td>-0.077743</td>\n",
       "      <td>-0.181207</td>\n",
       "      <td>1.000000</td>\n",
       "    </tr>\n",
       "  </tbody>\n",
       "</table>\n",
       "</div>"
      ],
      "text/plain": [
       "                 day    attend      temp       cap     shirt  fireworks  \\\n",
       "day         1.000000  0.027093 -0.127612 -0.202274 -0.030182   0.099528   \n",
       "attend      0.027093  1.000000  0.098951 -0.055002  0.133269   0.002094   \n",
       "temp       -0.127612  0.098951  1.000000  0.064521  0.004394  -0.189899   \n",
       "cap        -0.202274 -0.055002  0.064521  1.000000 -0.031204  -0.072732   \n",
       "shirt      -0.030182  0.133269  0.004394 -0.031204  1.000000  -0.089648   \n",
       "fireworks   0.099528  0.002094 -0.189899 -0.072732 -0.089648   1.000000   \n",
       "bobblehead  0.145363  0.581895  0.049573 -0.063074 -0.077743  -0.181207   \n",
       "\n",
       "            bobblehead  \n",
       "day           0.145363  \n",
       "attend        0.581895  \n",
       "temp          0.049573  \n",
       "cap          -0.063074  \n",
       "shirt        -0.077743  \n",
       "fireworks    -0.181207  \n",
       "bobblehead    1.000000  "
      ]
     },
     "execution_count": 44,
     "metadata": {},
     "output_type": "execute_result"
    }
   ],
   "source": [
    "matrix = dodgers_data.corr()\n",
    "matrix"
   ]
  },
  {
   "cell_type": "markdown",
   "id": "5ff10875",
   "metadata": {},
   "source": [
    "The above correlations tell us that the teams sees the highest correlation between attendance and bobblehead giveaways coming in at 58.18% compaired to a free shirt with a correlation of only 13.32%."
   ]
  },
  {
   "cell_type": "markdown",
   "id": "5d8349e1",
   "metadata": {},
   "source": [
    "## Visualizations"
   ]
  },
  {
   "cell_type": "code",
   "execution_count": 45,
   "id": "5a16d895",
   "metadata": {
    "scrolled": true
   },
   "outputs": [
    {
     "data": {
      "image/png": "[encoded data removed]",
      "text/plain": [
       "<Figure size 432x288 with 2 Axes>"
      ]
     },
     "metadata": {
      "needs_background": "light"
     },
     "output_type": "display_data"
    }
   ],
   "source": [
    "# Next I will create a visualizing for a Correlation Matrix through the use of Seaborn\n",
    "matrix = dodgers_data.corr().round(2)\n",
    "sns.heatmap(matrix, annot=True)\n",
    "plt.show()"
   ]
  },
  {
   "cell_type": "markdown",
   "id": "6471c722",
   "metadata": {},
   "source": [
    "The heat map shows us that the highest correlation we have in regards to attendance is the free bobbleheads. So some advice we can see from this is that fans are more likely to come to a game if they are going to et a free bobblehead compaired to a shirt and are even less likely for some reason to come if they are giving out free hats. As I myself have been to some games and remembered going and receiving a free bobblehead sometimes and made sure I went to games that gave them out. As this is a cool free gift for fans to take back home if they didnt get the chance to catch a foul ball, home run ball, or pick something up at the shop."
   ]
  },
  {
   "cell_type": "code",
   "execution_count": 58,
   "id": "b357a8c2",
   "metadata": {},
   "outputs": [
    {
     "data": {
      "text/plain": [
       "Text(0.5, 0, 'Month')"
      ]
     },
     "execution_count": 58,
     "metadata": {},
     "output_type": "execute_result"
    },
    {
     "data": {
      "image/png": "[encoded data removed]",
      "text/plain": [
       "<Figure size 432x288 with 1 Axes>"
      ]
     },
     "metadata": {
      "needs_background": "light"
     },
     "output_type": "display_data"
    }
   ],
   "source": [
    "sns.scatterplot('month','attend',data=dodgers_data)\n",
    "plt.title('Attendance per Month', fontsize=18)\n",
    "plt.ylabel('Attendance', fontsize=16)\n",
    "plt.xlabel('Month', fontsize=16)"
   ]
  },
  {
   "cell_type": "code",
   "execution_count": 60,
   "id": "5a20d69a",
   "metadata": {},
   "outputs": [
    {
     "data": {
      "text/plain": [
       "<seaborn.axisgrid.FacetGrid at 0x7fd28176fb20>"
      ]
     },
     "execution_count": 60,
     "metadata": {},
     "output_type": "execute_result"
    },
    {
     "data": {
      "image/png": "[encoded data removed]",
      "text/plain": [
       "<Figure size 430.375x360 with 1 Axes>"
      ]
     },
     "metadata": {
      "needs_background": "light"
     },
     "output_type": "display_data"
    }
   ],
   "source": [
    "sns.catplot(data = dodgers_data, x = 'month', y = 'attend', hue = 'skies', kind = \"bar\").set(title='Average Attendance per Month By Skies')"
   ]
  },
  {
   "cell_type": "code",
   "execution_count": 61,
   "id": "d799dd51",
   "metadata": {},
   "outputs": [
    {
     "data": {
      "text/plain": [
       "<seaborn.axisgrid.FacetGrid at 0x7fd280ef8a30>"
      ]
     },
     "execution_count": 61,
     "metadata": {},
     "output_type": "execute_result"
    },
    {
     "data": {
      "image/png": "[encoded data removed]",
      "text/plain": [
       "<Figure size 423x360 with 1 Axes>"
      ]
     },
     "metadata": {
      "needs_background": "light"
     },
     "output_type": "display_data"
    }
   ],
   "source": [
    "sns.catplot(data = dodgers_data, x = 'month', y = 'attend', hue = 'day_night', kind = \"bar\").set(title='Average Attendance per Month By Day or Night')"
   ]
  },
  {
   "cell_type": "code",
   "execution_count": 51,
   "id": "7cb4e072",
   "metadata": {},
   "outputs": [
    {
     "name": "stderr",
     "output_type": "stream",
     "text": [
      "/Users/Robyn/opt/anaconda3/lib/python3.8/site-packages/seaborn/_decorators.py:36: FutureWarning: Pass the following variables as keyword args: x, y. From version 0.12, the only valid positional argument will be `data`, and passing other arguments without an explicit keyword will result in an error or misinterpretation.\n",
      "  warnings.warn(\n"
     ]
    },
    {
     "data": {
      "text/plain": [
       "Text(0.5, 0, 'Temperature')"
      ]
     },
     "execution_count": 51,
     "metadata": {},
     "output_type": "execute_result"
    },
    {
     "data": {
      "image/png": "[encoded data removed]",
      "text/plain": [
       "<Figure size 432x288 with 1 Axes>"
      ]
     },
     "metadata": {
      "needs_background": "light"
     },
     "output_type": "display_data"
    }
   ],
   "source": [
    "sns.scatterplot('temp','attend',data=dodgers_data)\n",
    "plt.title('Attendance VS. Temperature', fontsize=18)\n",
    "plt.ylabel('Attendance', fontsize=16)\n",
    "plt.xlabel('Temperature', fontsize=16)"
   ]
  },
  {
   "cell_type": "markdown",
   "id": "4bdef87b",
   "metadata": {},
   "source": [
    "As seen above the from our two scatterplots we see that as temeratures raise above 80 and go lower than 70 degrees we see a drop in attendance. While in regards to months we see that June, July, and August have the highest turnout for each game in these months compaired to May September, and October we see fewer in attendance due to fewer games in later months. While we also see that for April, May, and June we have a higher attendance for day games while we see higher turnouts for july, august, and september for night games and only night games in october. While on another note games during April, May, July, and October had higher turnouts for clear skies."
   ]
  },
  {
   "cell_type": "markdown",
   "id": "359b916f",
   "metadata": {},
   "source": [
    "## Create dummy variables"
   ]
  },
  {
   "cell_type": "code",
   "execution_count": 62,
   "id": "b90b055d",
   "metadata": {},
   "outputs": [
    {
     "data": {
      "text/html": [
       "<div>\n",
       "<style scoped>\n",
       "    .dataframe tbody tr th:only-of-type {\n",
       "        vertical-align: middle;\n",
       "    }\n",
       "\n",
       "    .dataframe tbody tr th {\n",
       "        vertical-align: top;\n",
       "    }\n",
       "\n",
       "    .dataframe thead th {\n",
       "        text-align: right;\n",
       "    }\n",
       "</style>\n",
       "<table border=\"1\" class=\"dataframe\">\n",
       "  <thead>\n",
       "    <tr style=\"text-align: right;\">\n",
       "      <th></th>\n",
       "      <th>month</th>\n",
       "      <th>day</th>\n",
       "      <th>attend</th>\n",
       "      <th>day_of_week</th>\n",
       "      <th>opponent</th>\n",
       "      <th>temp</th>\n",
       "      <th>skies</th>\n",
       "      <th>day_night</th>\n",
       "      <th>cap</th>\n",
       "      <th>shirt</th>\n",
       "      <th>fireworks</th>\n",
       "      <th>bobblehead</th>\n",
       "      <th>Clear</th>\n",
       "      <th>Cloudy</th>\n",
       "    </tr>\n",
       "  </thead>\n",
       "  <tbody>\n",
       "    <tr>\n",
       "      <th>0</th>\n",
       "      <td>APR</td>\n",
       "      <td>10</td>\n",
       "      <td>56000</td>\n",
       "      <td>Tuesday</td>\n",
       "      <td>Pirates</td>\n",
       "      <td>67</td>\n",
       "      <td>Clear</td>\n",
       "      <td>Day</td>\n",
       "      <td>0</td>\n",
       "      <td>0</td>\n",
       "      <td>0</td>\n",
       "      <td>0</td>\n",
       "      <td>1</td>\n",
       "      <td>0</td>\n",
       "    </tr>\n",
       "    <tr>\n",
       "      <th>1</th>\n",
       "      <td>APR</td>\n",
       "      <td>11</td>\n",
       "      <td>29729</td>\n",
       "      <td>Wednesday</td>\n",
       "      <td>Pirates</td>\n",
       "      <td>58</td>\n",
       "      <td>Cloudy</td>\n",
       "      <td>Night</td>\n",
       "      <td>0</td>\n",
       "      <td>0</td>\n",
       "      <td>0</td>\n",
       "      <td>0</td>\n",
       "      <td>0</td>\n",
       "      <td>1</td>\n",
       "    </tr>\n",
       "    <tr>\n",
       "      <th>2</th>\n",
       "      <td>APR</td>\n",
       "      <td>12</td>\n",
       "      <td>28328</td>\n",
       "      <td>Thursday</td>\n",
       "      <td>Pirates</td>\n",
       "      <td>57</td>\n",
       "      <td>Cloudy</td>\n",
       "      <td>Night</td>\n",
       "      <td>0</td>\n",
       "      <td>0</td>\n",
       "      <td>0</td>\n",
       "      <td>0</td>\n",
       "      <td>0</td>\n",
       "      <td>1</td>\n",
       "    </tr>\n",
       "    <tr>\n",
       "      <th>3</th>\n",
       "      <td>APR</td>\n",
       "      <td>13</td>\n",
       "      <td>31601</td>\n",
       "      <td>Friday</td>\n",
       "      <td>Padres</td>\n",
       "      <td>54</td>\n",
       "      <td>Cloudy</td>\n",
       "      <td>Night</td>\n",
       "      <td>0</td>\n",
       "      <td>0</td>\n",
       "      <td>1</td>\n",
       "      <td>0</td>\n",
       "      <td>0</td>\n",
       "      <td>1</td>\n",
       "    </tr>\n",
       "    <tr>\n",
       "      <th>4</th>\n",
       "      <td>APR</td>\n",
       "      <td>14</td>\n",
       "      <td>46549</td>\n",
       "      <td>Saturday</td>\n",
       "      <td>Padres</td>\n",
       "      <td>57</td>\n",
       "      <td>Cloudy</td>\n",
       "      <td>Night</td>\n",
       "      <td>0</td>\n",
       "      <td>0</td>\n",
       "      <td>0</td>\n",
       "      <td>0</td>\n",
       "      <td>0</td>\n",
       "      <td>1</td>\n",
       "    </tr>\n",
       "  </tbody>\n",
       "</table>\n",
       "</div>"
      ],
      "text/plain": [
       "  month  day  attend day_of_week opponent  temp   skies day_night  cap  shirt  \\\n",
       "0   APR   10   56000     Tuesday  Pirates    67  Clear        Day    0      0   \n",
       "1   APR   11   29729   Wednesday  Pirates    58  Cloudy     Night    0      0   \n",
       "2   APR   12   28328    Thursday  Pirates    57  Cloudy     Night    0      0   \n",
       "3   APR   13   31601      Friday   Padres    54  Cloudy     Night    0      0   \n",
       "4   APR   14   46549    Saturday   Padres    57  Cloudy     Night    0      0   \n",
       "\n",
       "   fireworks  bobblehead  Clear   Cloudy  \n",
       "0          0           0       1       0  \n",
       "1          0           0       0       1  \n",
       "2          0           0       0       1  \n",
       "3          1           0       0       1  \n",
       "4          0           0       0       1  "
      ]
     },
     "execution_count": 62,
     "metadata": {},
     "output_type": "execute_result"
    }
   ],
   "source": [
    "# I will be creating dummy variables for my skies variable to see the dummy values for both clear and cloudy skies\n",
    "sky = pd.get_dummies(dodgers_data['skies'])\n",
    "dodgers_data = pd.concat([dodgers_data,sky],axis=1)\n",
    "dodgers_data.head()"
   ]
  },
  {
   "cell_type": "markdown",
   "id": "4e1839fa",
   "metadata": {},
   "source": [
    "## Calculate Correlation and P-values"
   ]
  },
  {
   "cell_type": "code",
   "execution_count": 69,
   "id": "97d89acd",
   "metadata": {},
   "outputs": [
    {
     "name": "stdout",
     "output_type": "stream",
     "text": [
      "-0.14455279697805704\n",
      "0.1979101223707068\n"
     ]
    }
   ],
   "source": [
    "from scipy.stats import spearmanr\n",
    "# I will calculate the spearman rank correlation and the p-value for the skies and attendance variables\n",
    "rho, p = spearmanr(dodgers_data['attend'], dodgers_data['skies'])\n",
    "print(rho)\n",
    "print(p)"
   ]
  },
  {
   "cell_type": "code",
   "execution_count": 70,
   "id": "5f193835",
   "metadata": {},
   "outputs": [
    {
     "name": "stdout",
     "output_type": "stream",
     "text": [
      "-0.14455279697805704\n",
      "0.1979101223707068\n"
     ]
    }
   ],
   "source": [
    "# Next I will calculate the spearman rank correlation and the p-value for the Cloudy sky and attendance variables\n",
    "rho, p = spearmanr(dodgers_data['attend'], dodgers_data['Cloudy'])\n",
    "print(rho)\n",
    "print(p)"
   ]
  },
  {
   "cell_type": "markdown",
   "id": "ad8999ff",
   "metadata": {},
   "source": [
    "The spearman rank correlation indicates a negative correlation between attendance and skies and even for just the Cloud skies and a P-value above 0.05 that came in at 0.1979 which is determined to be not significant."
   ]
  },
  {
   "cell_type": "code",
   "execution_count": 71,
   "id": "7c51efcf",
   "metadata": {},
   "outputs": [
    {
     "name": "stdout",
     "output_type": "stream",
     "text": [
      "-0.03194415616353275\n",
      "0.7770993120821882\n"
     ]
    }
   ],
   "source": [
    "# Next I will calculate the spearman rank correlation and the p-value for the day_night variable and attendance variable\n",
    "rho, p = spearmanr(dodgers_data['attend'], dodgers_data['day_night'])\n",
    "print(rho)\n",
    "print(p)"
   ]
  },
  {
   "cell_type": "markdown",
   "id": "b2dcab7b",
   "metadata": {},
   "source": [
    "Which indicates a negative correlation between attendance and skies and even for just the Cloud skies and a P-value above 0.05 that came in at 0.7770 which is determined to be not significant and higher than the skies variable."
   ]
  },
  {
   "cell_type": "code",
   "execution_count": 72,
   "id": "dbe091d3",
   "metadata": {},
   "outputs": [
    {
     "name": "stdout",
     "output_type": "stream",
     "text": [
      "0.544860357325685\n",
      "1.450121757548658e-07\n"
     ]
    }
   ],
   "source": [
    "# Next I will calculate the spearman rank correlation and the p-value for the bobblehead and attendance variables\n",
    "rho, p = spearmanr(dodgers_data['attend'], dodgers_data['bobblehead'])\n",
    "print(rho)\n",
    "print(p)"
   ]
  },
  {
   "cell_type": "markdown",
   "id": "1b44832c",
   "metadata": {},
   "source": [
    "last I wanted to see the spearman rank correlation and the p-value for the bobblehead and attendance variables which showed a positive correlation coming in at 0.5448 and a pvalue of 1.45.  "
   ]
  },
  {
   "cell_type": "markdown",
   "id": "5dbb0866",
   "metadata": {},
   "source": [
    "## Recommendation & Conclusion"
   ]
  },
  {
   "cell_type": "markdown",
   "id": "0283f95f",
   "metadata": {},
   "source": [
    "As for my recommendation to management to determine how to improve attendance I would like to walk them through several variables that came to my attention when working on improving attendance for the following season. First variable being the temperature as I have determined that as temperatures raise above 80 and go lower than 70 degrees, we see a drop in attendance. Meaning when we know temperatures are getting low maybe have an incentive for fans such as a free cup of hot chocolate or a discount on a souvenir cup. While when temperatures rise give out a free miniature souvenir baseball cap with an ice-cream purchase. While the second highest correlation that was determined from your variables is free t-shirts that had came in at 13.32% meaning you are more likely to gain more fans to the game if they are receiving a free t-shirt. While the number one correlation for a higher attendance was free bobbleheads as this showed a 58.18% correlation meaning you are going to have the most fans in your arena when these are given out. So, what you can do to raise sales when you are giving out bobbleheads is add some other discount in your store or at your snack stand to increase sales being that you already have the fans in the arena you might as well try and gain an extra sale. So overall the main way to gain attendance is to offer more free items as your fans really love the bobbleheads. Try to come up with new cheap free items like a pack of exclusive baseball cards free with entrance and maybe even slip some in that are signed by the players. As this would cost little to none and would be an incentive for fans to come. "
   ]
  },
  {
   "cell_type": "code",
   "execution_count": null,
   "id": "db94b345",
   "metadata": {},
   "outputs": [],
   "source": []
  }
 ],
 "metadata": {
  "kernelspec": {
   "display_name": "Python 3",
   "language": "python",
   "name": "python3"
  },
  "language_info": {
   "codemirror_mode": {
    "name": "ipython",
    "version": 3
   },
   "file_extension": ".py",
   "mimetype": "text/x-python",
   "name": "python",
   "nbconvert_exporter": "python",
   "pygments_lexer": "ipython3",
   "version": "3.8.8"
  }
 },
 "nbformat": 4,
 "nbformat_minor": 5
}
